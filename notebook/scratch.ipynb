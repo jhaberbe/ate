{
 "cells": [
  {
   "cell_type": "code",
   "execution_count": 1,
   "id": "bb965694",
   "metadata": {},
   "outputs": [
    {
     "name": "stderr",
     "output_type": "stream",
     "text": [
      "/opt/homebrew/lib/python3.11/site-packages/torch_geometric/typing.py:72: UserWarning: An issue occurred while importing 'torch-scatter'. Disabling its usage. Stacktrace: dlopen(/opt/homebrew/lib/python3.11/site-packages/torch_scatter/_version_cpu.so, 0x0006): Symbol not found: __ZN5torch3jit17parseSchemaOrNameERKNSt3__112basic_stringIcNS1_11char_traitsIcEENS1_9allocatorIcEEEE\n",
      "  Referenced from: <811F03BD-1C6E-37C2-9938-B196923E3A01> /opt/homebrew/lib/python3.11/site-packages/torch_scatter/_version_cpu.so\n",
      "  Expected in:     <772DF335-D7CB-318F-A275-48A16B0A0CA8> /opt/homebrew/lib/python3.11/site-packages/torch/lib/libtorch_cpu.dylib\n",
      "  warnings.warn(f\"An issue occurred while importing 'torch-scatter'. \"\n",
      "/opt/homebrew/lib/python3.11/site-packages/torch_geometric/typing.py:110: UserWarning: An issue occurred while importing 'torch-sparse'. Disabling its usage. Stacktrace: dlopen(/opt/homebrew/lib/python3.11/site-packages/torch_sparse/_version_cpu.so, 0x0006): Symbol not found: __ZN5torch3jit17parseSchemaOrNameERKNSt3__112basic_stringIcNS1_11char_traitsIcEENS1_9allocatorIcEEEE\n",
      "  Referenced from: <54B514C4-BCF7-3C35-A9DF-B57FC1143821> /opt/homebrew/lib/python3.11/site-packages/torch_sparse/_version_cpu.so\n",
      "  Expected in:     <772DF335-D7CB-318F-A275-48A16B0A0CA8> /opt/homebrew/lib/python3.11/site-packages/torch/lib/libtorch_cpu.dylib\n",
      "  warnings.warn(f\"An issue occurred while importing 'torch-sparse'. \"\n"
     ]
    },
    {
     "data": {
      "text/plain": [
       "<module 'src.models' from '/Users/jameshaberberger/GitHub/ate/src/models.py'>"
      ]
     },
     "execution_count": 1,
     "metadata": {},
     "output_type": "execute_result"
    }
   ],
   "source": [
    "import sys\n",
    "import importlib\n",
    "sys.path.append(\"/Users/jameshaberberger/GitHub/ate\")\n",
    "from src import utils, models\n",
    "importlib.reload(utils)\n",
    "importlib.reload(models)"
   ]
  },
  {
   "cell_type": "code",
   "execution_count": 2,
   "id": "416aa76b",
   "metadata": {},
   "outputs": [],
   "source": [
    "import scanpy as sc\n",
    "adata = sc.read_h5ad(\"../data/05-27.h5ad\")\n",
    "adata = adata[adata.layers[\"counts\"].sum(axis=1) > 50]"
   ]
  },
  {
   "cell_type": "markdown",
   "id": "70a6b99f",
   "metadata": {},
   "source": [
    "# Data Setup"
   ]
  },
  {
   "cell_type": "code",
   "execution_count": 3,
   "id": "bcef4c90",
   "metadata": {},
   "outputs": [],
   "source": [
    "import torch\n",
    "data = utils.generate_torch_geometric_data(adata)\n",
    "data.counts = torch.tensor(adata.layers[\"counts\"].todense(), dtype=torch.float32)\n",
    "data.near_amyloid = torch.tensor(adata.obs[\"near_amyloid\"].values, dtype=torch.float32)\n",
    "data.lipid_droplet_area = torch.tensor(adata.obs[\"lipid_droplet_area\"].values, dtype=torch.float32)\n",
    "data.total_counts = torch.tensor(adata.layers[\"counts\"].todense().sum(axis=1))\n",
    "data.size_factors = utils.counts_to_size_factors(data.total_counts)"
   ]
  },
  {
   "cell_type": "code",
   "execution_count": 4,
   "id": "ad4d150d",
   "metadata": {},
   "outputs": [],
   "source": [
    "nb_model = models.GATv2NBNet(data.x.shape[1], 64)"
   ]
  },
  {
   "cell_type": "code",
   "execution_count": null,
   "id": "aeb062e5",
   "metadata": {},
   "outputs": [],
   "source": [
    "import wandb\n",
    "\n",
    "import torch.distributions as dist\n",
    "\n",
    "logits, dispersion = nb_model(data.x, data.lipid_droplet_area > 0, data.edge_index)\n",
    "\n",
    "dist.NegativeBinomial(\n",
    "    logits=logits + data.size_factors.repeat(logits.shape[1], 1).T, \n",
    "    total_count=dispersion\n",
    ").log_prob(data.counts).sum(axis=1).mean()\n",
    "\n",
    "optimizer = torch.optim.Adam(nb_model.parameters(), lr=1e-3, weight_decay=1e-4)\n",
    "num_epochs = 1_000\n",
    "\n",
    "wandb.init(project=\"ate\", name=\"gatv2_nb_training\")\n",
    "\n",
    "for epoch in range(num_epochs):\n",
    "    nb_model.train()\n",
    "    optimizer.zero_grad()\n",
    "    logits, dispersion = nb_model(data.x, data.lipid_droplet_area > 0, data.edge_index)\n",
    "    nb_dist = dist.NegativeBinomial(\n",
    "        logits=logits + data.size_factors.repeat(logits.shape[1], 1).T,\n",
    "        total_count=dispersion\n",
    "    )\n",
    "    log_likelihood = nb_dist.log_prob(data.counts).sum(axis=1).mean()\n",
    "    loss = -log_likelihood\n",
    "    loss.backward()\n",
    "    optimizer.step()\n",
    "    wandb.log({\"epoch\": epoch + 1, \"loss\": loss.item(), \"log_likelihood\": log_likelihood.item()})"
   ]
  },
  {
   "cell_type": "code",
   "execution_count": 24,
   "id": "a742fbab",
   "metadata": {},
   "outputs": [],
   "source": [
    "# torch.save(nb_model, \"../models/gatv2_nb_model.pth\")\n",
    "nb_model = torch.load(\"../models/gatv2_nb_model.pth\", weights_only=False)"
   ]
  },
  {
   "cell_type": "code",
   "execution_count": 25,
   "id": "71b17be1",
   "metadata": {},
   "outputs": [
    {
     "name": "stderr",
     "output_type": "stream",
     "text": [
      "100%|██████████| 230/230 [00:42<00:00,  5.38it/s]\n"
     ]
    }
   ],
   "source": [
    "from tqdm import tqdm\n",
    "import numpy as np\n",
    "import torch.distributions as dist\n",
    "\n",
    "indices = np.arange(adata.shape[0])[\n",
    "    adata.obs[\"cell_type\"].eq(\"Microglia-PVM\") \n",
    "    & \n",
    "    adata.obs[\"lipid_droplet_area\"].gt(0)\n",
    "    & \n",
    "    adata.obs[\"near_amyloid\"].eq(0)\n",
    "]\n",
    "\n",
    "results = {}\n",
    "for idx in tqdm(indices[::3]):\n",
    "    # Clone the input features and lipid droplet area\n",
    "    x_clone = data.x.clone()\n",
    "    lipid_droplet_area_clone = data.lipid_droplet_area.clone()\n",
    "    # Set lipid droplet area to 1 for this index\n",
    "    lipid_droplet_area_clone[idx] = 0.0\n",
    "    # Run the model\n",
    "    nb_model.eval()\n",
    "    with torch.no_grad():\n",
    "        logits, dispersion = nb_model(x_clone, lipid_droplet_area_clone > 0, data.edge_index)\n",
    "        results[idx] = logits[idx]"
   ]
  },
  {
   "cell_type": "code",
   "execution_count": 26,
   "id": "b69f87f7",
   "metadata": {},
   "outputs": [],
   "source": [
    "import pandas as pd\n",
    "treatment = pd.DataFrame(results, index=adata.var_names).T"
   ]
  },
  {
   "cell_type": "code",
   "execution_count": 27,
   "id": "4cce6749",
   "metadata": {},
   "outputs": [],
   "source": [
    "logits, _ = nb_model(data.x, data.lipid_droplet_area > 0, data.edge_index)\n",
    "null = pd.DataFrame(\n",
    "    logits[coef_adding_lipid_droplets.index].detach().numpy(), \n",
    "    index=coef_adding_lipid_droplets.index, \n",
    "    columns=adata.var_names\n",
    ")"
   ]
  },
  {
   "cell_type": "code",
   "execution_count": null,
   "id": "a2bac3b5",
   "metadata": {},
   "outputs": [
    {
     "data": {
      "text/plain": [
       "PTPRC       0.115437\n",
       "MAL         0.104010\n",
       "CLEC7A      0.095476\n",
       "PDGFD       0.091845\n",
       "GPR183      0.089879\n",
       "              ...   \n",
       "PCSK1      -0.057745\n",
       "CD320      -0.058695\n",
       "SERPINA3   -0.062977\n",
       "ANKRD18A   -0.072813\n",
       "PPARG      -0.084980\n",
       "Length: 366, dtype: float32"
      ]
     },
     "execution_count": 33,
     "metadata": {},
     "output_type": "execute_result"
    }
   ],
   "source": [
    "(treatment - null).mean(axis=0).sort_values(ascending=False)"
   ]
  },
  {
   "cell_type": "code",
   "execution_count": 37,
   "id": "61cfc6e0",
   "metadata": {},
   "outputs": [
    {
     "data": {
      "text/plain": [
       "<Axes: ylabel='Frequency'>"
      ]
     },
     "execution_count": 37,
     "metadata": {},
     "output_type": "execute_result"
    },
    {
     "data": {
      "image/png": "[encoded data removed]",
      "text/plain": [
       "<Figure size 640x480 with 1 Axes>"
      ]
     },
     "metadata": {},
     "output_type": "display_data"
    }
   ],
   "source": [
    "(treatment - null)[\"PTPRC\"].plot.hist(bins=30)"
   ]
  },
  {
   "cell_type": "code",
   "execution_count": null,
   "id": "e18863d7",
   "metadata": {},
   "outputs": [
    {
     "data": {
      "text/plain": [
       "RYR3       1.0\n",
       "MBP        1.0\n",
       "PPARG      1.0\n",
       "CTSD       1.0\n",
       "HES1       1.0\n",
       "          ... \n",
       "BCL2       0.0\n",
       "BDNF       0.0\n",
       "CDK1       0.0\n",
       "RNASET2    0.0\n",
       "ZDHHC23    0.0\n",
       "Length: 366, dtype: float64"
      ]
     },
     "execution_count": 44,
     "metadata": {},
     "output_type": "execute_result"
    }
   ],
   "source": [
    "from scipy.stats import ttest_1samp\n",
    "\n",
    "ate = (treatment - null)\n",
    "\n",
    "# Compute t-test statistics for each gene (column) in treatment DataFrame\n",
    "t_stats = {}\n",
    "p_values = {}\n",
    "\n",
    "for gene in treatment.columns:\n",
    "    t_stat, p_val = ttest_1samp(treatment[gene], popmean=0, nan_policy='omit')\n",
    "    t_stats[gene] = t_stat\n",
    "    p_values[gene] = p_val\n",
    "\n",
    "# Convert to DataFrames for easier inspection\n",
    "t_stats_df = pd.DataFrame.from_dict(t_stats, orient='index', columns=['t_stat'])\n",
    "p_values_df = pd.DataFrame.from_dict(p_values, orient='index', columns=['p_value'])\n",
    "\n",
    "# Optionally, combine into a single DataFrame\n",
    "ttest_results = pd.concat([t_stats_df, p_values_df], axis=1)\n",
    "ttest_results.sort_values('p_value', inplace=True)\n",
    "ttest_results.head()"
   ]
  },
  {
   "cell_type": "code",
   "execution_count": null,
   "id": "f2094e65",
   "metadata": {},
   "outputs": [],
   "source": []
  }
 ],
 "metadata": {
  "kernelspec": {
   "display_name": "Python 3",
   "language": "python",
   "name": "python3"
  },
  "language_info": {
   "codemirror_mode": {
    "name": "ipython",
    "version": 3
   },
   "file_extension": ".py",
   "mimetype": "text/x-python",
   "name": "python",
   "nbconvert_exporter": "python",
   "pygments_lexer": "ipython3",
   "version": "3.11.10"
  }
 },
 "nbformat": 4,
 "nbformat_minor": 5
}
